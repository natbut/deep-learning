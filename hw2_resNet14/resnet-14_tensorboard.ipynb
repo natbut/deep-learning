{
 "cells": [
  {
   "cell_type": "markdown",
   "metadata": {},
   "source": [
    "## Assignment 3: ResNet-14 CNN with Tensorboard Visualization\n",
    "\n",
    "AI 535: Deep Learning\n",
    "\n",
    "Nathan Butler | butlnath@oregonstate.edu"
   ]
  },
  {
   "cell_type": "markdown",
   "metadata": {},
   "source": [
    "1. Create a ResNet-14 that classifies the CIFAR-10 dataset. The ResNet-14 architecture can be found in Section 4.2 of the paper.\n",
    "\n",
    "https://arxiv.org/pdf/1512.03385.pdf\n",
    "\n",
    "with n = 2. Note that the paper itself never used n = 2. But it should still lead to a pretty good network.\n",
    "\n",
    "This tutorial should be helpful, or you can also use chatGPT/coPilot or any language-model based helper as well:\n",
    "\n",
    "https://pytorch.org/tutorials/beginner/blitz/cifar10_tutorial.htmlLinks to an external site.\n",
    "\n",
    "For the global average pooling specified in the paper, you can use torch.nn.AvgPool2d with a kernel size the same as the image.\n",
    "\n",
    "For the training loss function, you can directly use torch.nn.CrossEntropyLoss which by default handles multi-class. torch.nn.CrossEntropyLoss will automatically put a softmax, together with the log-likelihood loss function, so you DON'T have to make another softmax layer before it."
   ]
  },
  {
   "cell_type": "code",
   "execution_count": null,
   "metadata": {},
   "outputs": [],
   "source": [
    "# TODO"
   ]
  },
  {
   "cell_type": "markdown",
   "metadata": {},
   "source": [
    "2. Setup TensorBoard on Google Colab:\n",
    "\n",
    "This tutorial might be helpful:\n",
    "\n",
    "https://pytorch.org/tutorials/intermediate/tensorboard_tutorial.html\n",
    "\n",
    "Note: To use TensorBoard on Colab, you may need to run this first in Colab:\n",
    "\n",
    "%load_ext tensorboard\n",
    "\n",
    "Then:\n",
    "\n",
    "%tensorboard --logdir runs\n",
    "\n",
    "launches TensorBoard, instead of the corresponding command in the tutorial.\n",
    "\n",
    "NOTE #2: \n",
    "There might be a strange bug when you call add_embedding, it can be solved by adding the following 3 lines to Colab before you invoke a tensorboard writer.\n",
    "\n",
    "import tensorflow as tf\n",
    "import tensorboard as tb\n",
    "tf.io.gfile = tb.compat.tensorflow_stub.io.gfile"
   ]
  },
  {
   "cell_type": "code",
   "execution_count": null,
   "metadata": {},
   "outputs": [],
   "source": [
    "# TODO"
   ]
  },
  {
   "cell_type": "markdown",
   "metadata": {},
   "source": [
    "3. Train the model for at least 30 epochs. Make tensorboard to display the training curve (training loss vs. epoch) as well as some images from the training set."
   ]
  },
  {
   "cell_type": "code",
   "execution_count": null,
   "metadata": {},
   "outputs": [],
   "source": [
    "# TODO"
   ]
  },
  {
   "cell_type": "markdown",
   "metadata": {},
   "source": [
    "4. Try to add visualizations of testing error and testing loss with TensorBoard."
   ]
  },
  {
   "cell_type": "code",
   "execution_count": null,
   "metadata": {},
   "outputs": [],
   "source": [
    "# TODO"
   ]
  },
  {
   "cell_type": "markdown",
   "metadata": {},
   "source": [
    "5. Try to tune the network in one other way of your choice. Train it again to check how does the performance change? Visualize the loss with TensorBoard."
   ]
  },
  {
   "cell_type": "code",
   "execution_count": null,
   "metadata": {},
   "outputs": [],
   "source": [
    "# TODO"
   ]
  },
  {
   "cell_type": "markdown",
   "metadata": {},
   "source": [
    "Please put all these in an iPython notebook, with clear labels of your name and different sections of the assignment. Then submit the iPython notebook on Canvas.\n",
    "\n",
    "Rubric note:\n",
    "\n",
    "If your code runs but the learning diverges (e.g. going to infinity or not a number, or 10% accuracy), the points for that particular part (part 3, part 5) will be deducted. For each setting, this will be 5 points deduction out of 50 total. If the code does not run, then you will get at most 10 points for part 1."
   ]
  }
 ],
 "metadata": {
  "kernelspec": {
   "display_name": ".venv",
   "language": "python",
   "name": "python3"
  },
  "language_info": {
   "name": "python",
   "version": "3.11.9"
  }
 },
 "nbformat": 4,
 "nbformat_minor": 2
}
